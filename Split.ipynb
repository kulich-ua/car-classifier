{
 "cells": [
  {
   "cell_type": "code",
   "execution_count": 4,
   "id": "hidden-reading",
   "metadata": {},
   "outputs": [],
   "source": [
    "import numpy as np\n",
    "import random\n",
    "\n",
    "def generateSplitIndexesCount(num_samples):\n",
    "\n",
    "    fnames_indexes = list(np.arange(num_samples))\n",
    "\n",
    "    train_split = 0.67\n",
    "    valid_split = 0.19\n",
    "    test_split = 0.14\n",
    "\n",
    "    num_train = int(round(num_samples * train_split))\n",
    "    num_valid = int(round(num_samples * valid_split))\n",
    "    num_test = int(round(num_samples * test_split))\n",
    "\n",
    "    random_indexes = random.sample(fnames_indexes, num_samples)\n",
    "\n",
    "    train_indexes = random_indexes[0 : num_train]\n",
    "    valid_indexes = random_indexes[num_train : num_train + num_valid]\n",
    "    test_indexes = random_indexes[num_train + num_valid : num_samples]\n",
    "\n",
    "    return train_indexes, valid_indexes, test_indexes"
   ]
  },
  {
   "cell_type": "code",
   "execution_count": 5,
   "id": "dimensional-cologne",
   "metadata": {},
   "outputs": [],
   "source": [
    "from shutil import copyfile\n",
    "from os import makedirs\n",
    "from os.path import join, exists\n",
    "\n",
    "def copyCategory(categoryFolder, categoryPath, destinationDataSetPath):\n",
    "        \n",
    "    fileNames = listdir(categoryPath)\n",
    "    num_samples = len(fileNames)\n",
    "    train_indexes, valid_indexes, test_indexes = generateSplitIndexesCount(num_samples)\n",
    "    \n",
    "    index = 0\n",
    "    \n",
    "    for fileName in fileNames:\n",
    "    \n",
    "        if index in train_indexes:\n",
    "            destinationSplitPath = join(destinationDataSetPath, \"train\")\n",
    "        elif index in valid_indexes:\n",
    "            destinationSplitPath = join(destinationDataSetPath, \"valid\")\n",
    "        else:\n",
    "            destinationSplitPath = join(destinationDataSetPath, \"test\")\n",
    "    \n",
    "        destinationCategoryFolder = join(destinationSplitPath, categoryFolder)\n",
    "\n",
    "        if not exists(destinationCategoryFolder):\n",
    "            makedirs(destinationCategoryFolder)\n",
    "\n",
    "        filePath = join(categoryPath, fileName)\n",
    "        destinationFilePath = join(destinationCategoryFolder, fileName)\n",
    "\n",
    "        copyfile(filePath, destinationFilePath)\n",
    "        index += 1"
   ]
  },
  {
   "cell_type": "code",
   "execution_count": 6,
   "id": "starting-hunter",
   "metadata": {},
   "outputs": [],
   "source": [
    "from os import listdir\n",
    "from os.path import isfile, join\n",
    "\n",
    "def createSplitDataSet(dataSetPath):\n",
    "\n",
    "    destinationDataSetPath = dataSetPath + \"Split\"\n",
    "\n",
    "    categoryFolders = listdir(dataSetPath)\n",
    "\n",
    "    for categoryFolder in categoryFolders:\n",
    "    \n",
    "        categoryPath = join(dataSetPath, categoryFolder)\n",
    "    \n",
    "        if isfile(categoryPath) == False:\n",
    "        \n",
    "            copyCategory(categoryFolder, categoryPath, destinationDataSetPath)\n",
    "        "
   ]
  },
  {
   "cell_type": "code",
   "execution_count": 12,
   "id": "decreased-reform",
   "metadata": {},
   "outputs": [],
   "source": [
    "dataSetPath = \"data/vwGolfs2\"\n",
    "createSplitDataSet(dataSetPath)"
   ]
  },
  {
   "cell_type": "code",
   "execution_count": null,
   "id": "undefined-container",
   "metadata": {},
   "outputs": [],
   "source": []
  }
 ],
 "metadata": {
  "kernelspec": {
   "display_name": "Python 3",
   "language": "python",
   "name": "python3"
  },
  "language_info": {
   "codemirror_mode": {
    "name": "ipython",
    "version": 3
   },
   "file_extension": ".py",
   "mimetype": "text/x-python",
   "name": "python",
   "nbconvert_exporter": "python",
   "pygments_lexer": "ipython3",
   "version": "3.9.2"
  }
 },
 "nbformat": 4,
 "nbformat_minor": 5
}
