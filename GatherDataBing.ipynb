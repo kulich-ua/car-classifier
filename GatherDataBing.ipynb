{
 "cells": [
  {
   "cell_type": "markdown",
   "id": "warming-arbitration",
   "metadata": {},
   "source": [
    "## Gathering Data Azure (Bing)"
   ]
  },
  {
   "cell_type": "code",
   "execution_count": 3,
   "id": "numeric-gabriel",
   "metadata": {},
   "outputs": [],
   "source": [
    "import os\n",
    "key = os.environ.get('AZURE_SEARCH_KEY', '')"
   ]
  },
  {
   "cell_type": "code",
   "execution_count": 4,
   "id": "third-deviation",
   "metadata": {},
   "outputs": [],
   "source": [
    "#hide\n",
    "#!pip install -Uqq fastbook\n",
    "import fastbook\n",
    "fastbook.setup_book()"
   ]
  },
  {
   "cell_type": "code",
   "execution_count": 6,
   "id": "stuck-sussex",
   "metadata": {},
   "outputs": [],
   "source": [
    "from fastbook import *"
   ]
  },
  {
   "cell_type": "code",
   "execution_count": 7,
   "id": "juvenile-pasta",
   "metadata": {},
   "outputs": [
    {
     "data": {
      "text/plain": [
       "150"
      ]
     },
     "execution_count": 7,
     "metadata": {},
     "output_type": "execute_result"
    }
   ],
   "source": [
    "results = search_images_bing(key, 'grizzly bear')\n",
    "ims = results.attrgot('contentUrl')\n",
    "len(ims)"
   ]
  },
  {
   "cell_type": "code",
   "execution_count": 8,
   "id": "drawn-democrat",
   "metadata": {},
   "outputs": [],
   "source": [
    "car_types = 'Volkswagen Golf 5', 'Volkswagen Golf 6', 'Volkswagen Golf 7', 'Volkswagen Golf 8'\n",
    "path = Path('data/vwGolfs')\n",
    "# AcuraModels/AcuraModelsTrain"
   ]
  },
  {
   "cell_type": "code",
   "execution_count": 9,
   "id": "toxic-disaster",
   "metadata": {},
   "outputs": [],
   "source": [
    "if not path.exists():\n",
    "    path.mkdir()\n",
    "    for o in car_types:\n",
    "        dest = (path/o)\n",
    "        dest.mkdir(exist_ok=True)\n",
    "        results = search_images_bing(key, f'{o}')\n",
    "        download_images(dest, urls=results.attrgot('contentUrl'))"
   ]
  },
  {
   "cell_type": "code",
   "execution_count": 11,
   "id": "indirect-copper",
   "metadata": {},
   "outputs": [
    {
     "data": {
      "text/plain": [
       "(#556) [Path('data/vwGolfs/Volkswagen Golf 6/00000038.jpg'),Path('data/vwGolfs/Volkswagen Golf 6/00000010.jpg'),Path('data/vwGolfs/Volkswagen Golf 6/00000004.jpg'),Path('data/vwGolfs/Volkswagen Golf 6/00000125.jpeg'),Path('data/vwGolfs/Volkswagen Golf 6/00000005.jpg'),Path('data/vwGolfs/Volkswagen Golf 6/00000011.jpg'),Path('data/vwGolfs/Volkswagen Golf 6/00000039.JPG'),Path('data/vwGolfs/Volkswagen Golf 6/00000007.jpg'),Path('data/vwGolfs/Volkswagen Golf 6/00000013.jpg'),Path('data/vwGolfs/Volkswagen Golf 6/00000012.jpg')...]"
      ]
     },
     "execution_count": 11,
     "metadata": {},
     "output_type": "execute_result"
    }
   ],
   "source": [
    "fns = get_image_files(path)\n",
    "fns"
   ]
  },
  {
   "cell_type": "code",
   "execution_count": 12,
   "id": "japanese-bolivia",
   "metadata": {},
   "outputs": [
    {
     "data": {
      "text/plain": [
       "(#8) [Path('data/vwGolfs/Volkswagen Golf 6/00000065.jpg'),Path('data/vwGolfs/Volkswagen Golf 6/00000133.jpg'),Path('data/vwGolfs/Volkswagen Golf 6/00000045.jpg'),Path('data/vwGolfs/Volkswagen Golf 6/00000043.jpg'),Path('data/vwGolfs/Volkswagen Golf 6/00000015.jpeg'),Path('data/vwGolfs/Volkswagen Golf 8/00000099.jpg'),Path('data/vwGolfs/Volkswagen Golf 8/00000058.jpg'),Path('data/vwGolfs/Volkswagen Golf 8/00000093.jpg')]"
      ]
     },
     "execution_count": 12,
     "metadata": {},
     "output_type": "execute_result"
    }
   ],
   "source": [
    "failed = verify_images(fns)\n",
    "failed"
   ]
  },
  {
   "cell_type": "code",
   "execution_count": 13,
   "id": "indirect-causing",
   "metadata": {},
   "outputs": [],
   "source": [
    "failed.map(Path.unlink);"
   ]
  },
  {
   "cell_type": "code",
   "execution_count": null,
   "id": "hungarian-helena",
   "metadata": {},
   "outputs": [],
   "source": []
  }
 ],
 "metadata": {
  "kernelspec": {
   "display_name": "Python 3",
   "language": "python",
   "name": "python3"
  },
  "language_info": {
   "codemirror_mode": {
    "name": "ipython",
    "version": 3
   },
   "file_extension": ".py",
   "mimetype": "text/x-python",
   "name": "python",
   "nbconvert_exporter": "python",
   "pygments_lexer": "ipython3",
   "version": "3.9.2"
  }
 },
 "nbformat": 4,
 "nbformat_minor": 5
}
