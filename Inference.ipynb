{
 "cells": [
  {
   "cell_type": "markdown",
   "id": "described-wildlife",
   "metadata": {},
   "source": [
    "## Classify cars by Volkswagen Golf generations\n",
    "### (8 generations)"
   ]
  },
  {
   "cell_type": "code",
   "execution_count": 1,
   "id": "enormous-handle",
   "metadata": {},
   "outputs": [],
   "source": [
    "#!pip install -Uqq fastbook\n",
    "import fastbook\n",
    "fastbook.setup_book()\n",
    "\n",
    "from fastbook import *\n",
    "from fastai.vision.widgets import *"
   ]
  },
  {
   "cell_type": "code",
   "execution_count": 2,
   "id": "right-provider",
   "metadata": {},
   "outputs": [],
   "source": [
    "torch.set_printoptions(sci_mode = False)"
   ]
  },
  {
   "cell_type": "code",
   "execution_count": 3,
   "id": "completed-nickname",
   "metadata": {},
   "outputs": [],
   "source": [
    "modelFilePath = 'model.pkl'"
   ]
  },
  {
   "cell_type": "code",
   "execution_count": 4,
   "id": "norman-awareness",
   "metadata": {},
   "outputs": [],
   "source": [
    "import os\n",
    "googleDriveAPIKey = os.getenv('GOOGLE_DRIVE_API_KEY')"
   ]
  },
  {
   "cell_type": "code",
   "execution_count": 5,
   "id": "collect-shelter",
   "metadata": {},
   "outputs": [],
   "source": [
    "import urllib.request\n",
    "from os.path import exists\n",
    "\n",
    "def downloadModelIfNeeded():\n",
    "    modelURL = 'https://www.googleapis.com/drive/v3/files/170T-MMyYRKQGUJF9z1RhLypIkvLoVZg-?alt=media&key='+googleDriveAPIKey\n",
    "\n",
    "    if not exists(modelFilePath):\n",
    "        urllib.request.urlretrieve(modelURL, modelFilePath)\n"
   ]
  },
  {
   "cell_type": "code",
   "execution_count": 6,
   "id": "economic-grenada",
   "metadata": {},
   "outputs": [],
   "source": [
    "uploadButton = widgets.FileUpload()\n",
    "runButton = widgets.Button(description='Classify')\n",
    "imageOutput = widgets.Output()\n",
    "probabilitiesLabel = widgets.Label()\n",
    "predictionLabel = widgets.Label()\n",
    "probabilityLabel = widgets.Label()"
   ]
  },
  {
   "cell_type": "code",
   "execution_count": 7,
   "id": "gentle-princeton",
   "metadata": {},
   "outputs": [],
   "source": [
    "def clearUploadButton():\n",
    "    uploadButton.data = []\n",
    "    uploadButton.metadata = []\n",
    "    uploadButton._counter = 0"
   ]
  },
  {
   "cell_type": "code",
   "execution_count": 8,
   "id": "breeding-hometown",
   "metadata": {},
   "outputs": [],
   "source": [
    "def onClickClassify(change):\n",
    "    downloadModelIfNeeded()\n",
    "    \n",
    "    img = PILImage.create(uploadButton.data[-1])\n",
    "    clearUploadButton()\n",
    "    \n",
    "    imageOutput.clear_output()\n",
    "    with imageOutput: display(img.to_thumb(128,128))\n",
    "    learner = load_learner(modelFilePath)\n",
    "    prediction, predictionIndex, probabilities = learner.predict(img)\n",
    "    probabilitiesLabel.value = f'Probabilities: {probabilities}'\n",
    "    predictionLabel.value = f'Prediction: {prediction}'\n",
    "    probabilityLabel.value = f'Probability: {probabilities[predictionIndex]*100:.02f}%'\n",
    "\n",
    "runButton.on_click(onClickClassify)"
   ]
  },
  {
   "cell_type": "code",
   "execution_count": 9,
   "id": "offshore-necklace",
   "metadata": {},
   "outputs": [
    {
     "data": {
      "application/vnd.jupyter.widget-view+json": {
       "model_id": "cfff3fcfde184247aaac8130c3e37346",
       "version_major": 2,
       "version_minor": 0
      },
      "text/plain": [
       "VBox(children=(Label(value='Select a car photo!'), FileUpload(value={}, description='Upload'), Button(descript…"
      ]
     },
     "metadata": {},
     "output_type": "display_data"
    }
   ],
   "source": [
    "VBox([widgets.Label('Select a car photo!'), \n",
    "      uploadButton, \n",
    "      runButton, \n",
    "      imageOutput, \n",
    "      probabilitiesLabel, \n",
    "      predictionLabel, \n",
    "      probabilityLabel\n",
    "     ])"
   ]
  },
  {
   "cell_type": "code",
   "execution_count": 10,
   "id": "angry-charleston",
   "metadata": {},
   "outputs": [],
   "source": [
    "#from platform import python_version\n",
    "#print(\"python: \" + python_version())\n",
    "\n",
    "#import fastai\n",
    "#print(\"fastai: \" + fastai.__version__)\n",
    "\n",
    "#print(\"torch: \" + torch.__version__)\n",
    "\n",
    "#import torchvision\n",
    "#print(\"torchvision: \" + torchvision.__version__)\n",
    "\n",
    "#import fastbook\n",
    "#print(\"fastbook: \" + fastbook.__version__)"
   ]
  },
  {
   "cell_type": "code",
   "execution_count": 11,
   "id": "burning-attribute",
   "metadata": {},
   "outputs": [
    {
     "data": {
      "application/vnd.jupyter.widget-view+json": {
       "model_id": "09cec533fe9a4ac7a3ad6328c9f2ffb8",
       "version_major": 2,
       "version_minor": 0
      },
      "text/plain": [
       "HTML(value='<a style=\"color:#296eaa\" href=\"https://github.com/kulich-ua/car-classifier\">Link to code</a>')"
      ]
     },
     "metadata": {},
     "output_type": "display_data"
    }
   ],
   "source": [
    "link = widgets.HTML(\n",
    "    value='<a style=\"color:#296eaa\" href=\"https://github.com/kulich-ua/car-classifier\">Link to code</a>',\n",
    ")\n",
    "display(link)"
   ]
  },
  {
   "cell_type": "markdown",
   "id": "checked-louis",
   "metadata": {},
   "source": [
    "Version: 1.0"
   ]
  }
 ],
 "metadata": {
  "kernelspec": {
   "display_name": "Python 3",
   "language": "python",
   "name": "python3"
  },
  "language_info": {
   "codemirror_mode": {
    "name": "ipython",
    "version": 3
   },
   "file_extension": ".py",
   "mimetype": "text/x-python",
   "name": "python",
   "nbconvert_exporter": "python",
   "pygments_lexer": "ipython3",
   "version": "3.9.2"
  }
 },
 "nbformat": 4,
 "nbformat_minor": 5
}
